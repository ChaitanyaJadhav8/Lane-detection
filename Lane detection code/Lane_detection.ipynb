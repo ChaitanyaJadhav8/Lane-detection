{
 "cells": [
  {
   "cell_type": "code",
   "execution_count": 51,
   "metadata": {},
   "outputs": [],
   "source": [
    "import cv2 as cv"
   ]
  },
  {
   "cell_type": "code",
   "execution_count": 52,
   "metadata": {},
   "outputs": [
    {
     "data": {
      "text/plain": [
       "True"
      ]
     },
     "execution_count": 52,
     "metadata": {},
     "output_type": "execute_result"
    }
   ],
   "source": [
    "img = cv.imread('road_img.jpeg')\n",
    "\n",
    "gray = cv.cvtColor(img, cv.COLOR_BGR2GRAY)\n",
    "\n",
    "edges = cv.Canny(gray, 400, 450)\n",
    "\n",
    "cv.imwrite('gray.jpg', gray)\n",
    "cv.imwrite('edges.jpg',edges)"
   ]
  },
  {
   "cell_type": "code",
   "execution_count": 53,
   "metadata": {},
   "outputs": [],
   "source": [
    "contours, _ = cv.findContours(edges, cv.RETR_TREE, cv.CHAIN_APPROX_NONE)"
   ]
  },
  {
   "cell_type": "code",
   "execution_count": 54,
   "metadata": {},
   "outputs": [
    {
     "data": {
      "text/plain": [
       "array([[[182, 156,  66],\n",
       "        [183, 157,  67],\n",
       "        [183, 157,  67],\n",
       "        ...,\n",
       "        [168, 143,  51],\n",
       "        [168, 143,  51],\n",
       "        [168, 143,  51]],\n",
       "\n",
       "       [[183, 157,  67],\n",
       "        [183, 157,  67],\n",
       "        [183, 157,  67],\n",
       "        ...,\n",
       "        [169, 144,  52],\n",
       "        [168, 143,  51],\n",
       "        [168, 143,  51]],\n",
       "\n",
       "       [[183, 157,  67],\n",
       "        [183, 157,  67],\n",
       "        [183, 157,  67],\n",
       "        ...,\n",
       "        [169, 144,  52],\n",
       "        [169, 144,  52],\n",
       "        [169, 144,  52]],\n",
       "\n",
       "       ...,\n",
       "\n",
       "       [[ 31,  26,  23],\n",
       "        [ 22,  17,  14],\n",
       "        [ 21,  18,  14],\n",
       "        ...,\n",
       "        [ 21,  17,  16],\n",
       "        [ 21,  17,  16],\n",
       "        [ 22,  18,  17]],\n",
       "\n",
       "       [[ 28,  23,  20],\n",
       "        [ 25,  20,  17],\n",
       "        [ 24,  21,  17],\n",
       "        ...,\n",
       "        [ 21,  17,  16],\n",
       "        [ 21,  17,  16],\n",
       "        [ 22,  18,  17]],\n",
       "\n",
       "       [[ 24,  19,  16],\n",
       "        [ 25,  20,  17],\n",
       "        [ 25,  22,  18],\n",
       "        ...,\n",
       "        [ 22,  20,  19],\n",
       "        [ 26,  24,  23],\n",
       "        [ 25,  23,  22]]], dtype=uint8)"
      ]
     },
     "execution_count": 54,
     "metadata": {},
     "output_type": "execute_result"
    }
   ],
   "source": [
    "cv.drawContours(img, contours, -1, (0,255,0), 3)"
   ]
  },
  {
   "cell_type": "code",
   "execution_count": 55,
   "metadata": {},
   "outputs": [
    {
     "data": {
      "text/plain": [
       "True"
      ]
     },
     "execution_count": 55,
     "metadata": {},
     "output_type": "execute_result"
    }
   ],
   "source": [
    "cv.imwrite('contour_detection.jpg', img)"
   ]
  },
  {
   "cell_type": "code",
   "execution_count": 33,
   "metadata": {},
   "outputs": [
    {
     "name": "stdout",
     "output_type": "stream",
     "text": [
      "C:\\Users\\Admin\\Desktop\\data1\n"
     ]
    }
   ],
   "source": [
    "cd C:\\Users\\Admin\\desktop\\data1"
   ]
  },
  {
   "cell_type": "code",
   "execution_count": 45,
   "metadata": {},
   "outputs": [
    {
     "data": {
      "text/plain": [
       "array([[0, 0, 0, ..., 0, 0, 0],\n",
       "       [0, 0, 0, ..., 0, 0, 0],\n",
       "       [0, 0, 0, ..., 0, 0, 0],\n",
       "       ...,\n",
       "       [0, 0, 0, ..., 0, 0, 0],\n",
       "       [0, 0, 0, ..., 0, 0, 0],\n",
       "       [0, 0, 0, ..., 0, 0, 0]], dtype=uint8)"
      ]
     },
     "execution_count": 45,
     "metadata": {},
     "output_type": "execute_result"
    }
   ],
   "source": [
    "edges"
   ]
  },
  {
   "cell_type": "code",
   "execution_count": null,
   "metadata": {},
   "outputs": [],
   "source": []
  }
 ],
 "metadata": {
  "kernelspec": {
   "display_name": "Python 3",
   "language": "python",
   "name": "python3"
  },
  "language_info": {
   "codemirror_mode": {
    "name": "ipython",
    "version": 3
   },
   "file_extension": ".py",
   "mimetype": "text/x-python",
   "name": "python",
   "nbconvert_exporter": "python",
   "pygments_lexer": "ipython3",
   "version": "3.7.10"
  }
 },
 "nbformat": 4,
 "nbformat_minor": 4
}
